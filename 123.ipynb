{
 "cells": [
  {
   "cell_type": "code",
   "execution_count": 41,
   "metadata": {
    "collapsed": true
   },
   "outputs": [
    {
     "name": "stdout",
     "output_type": "stream",
     "text": [
      "3.8.10 (default, Jun 22 2022, 20:18:18) \n",
      "[GCC 9.4.0] linux /media/suvenir/CBC84447972882F5/Програмирование/задания для трудоустройства/psrsing vk/venvnew/bin/python\n",
      "***** Загрузка постов *****\n"
     ]
    },
    {
     "name": "stderr",
     "output_type": "stream",
     "text": [
      "100%|██████████| 2/2 [01:45<00:00, 52.57s/it]\n"
     ]
    }
   ],
   "source": [
    "\n",
    "import sys\n",
    "print(sys.version, sys.platform, sys.executable)\n",
    "from main import get_count_coments\n",
    "import pickle\n",
    "\n",
    "\n",
    "\n",
    "\n",
    "\n",
    "with open(\"group_list.pickle\", 'rb') as file:\n",
    "    lst_us = pickle.load(file)\n",
    "# print(lst_us)\n",
    "\n",
    "res = get_count_coments(lst_us)\n"
   ]
  },
  {
   "cell_type": "code",
   "execution_count": 55,
   "outputs": [
    {
     "data": {
      "text/plain": "             group_id  count_coments\nuser_id                             \n-135229927  135229927              5\n-101744603  135229927              1\n 49338486   135229927              1\n 55936014   135229927              1\n 99463740   135229927              1\n 128878022  135229927              1\n 142076328  135229927              1\n 144062872  135229927              1\n 173442304  135229927              1\n 343109197  135229927              1\n 366368721  135229927              3\n 422053987  135229927              1\n 482133237  135229927              2\n 530513175  135229927              1\n 575919998  135229927              1\n 722951641  135229927              1\n 97994283   194757069              1\n 152135321  194757069              1\n 161180401  194757069              1\n 223544135  194757069              1\n 278742231  194757069              2\n 336661000  194757069              1\n 377647853  194757069              1\n 400066476  194757069              1\n 408971740  194757069              1\n 411939151  194757069              1\n 414867718  194757069              1\n 463910935  194757069              1\n 511300777  194757069              1\n 516058613  194757069              1\n 524430629  194757069              1\n 559367123  194757069              3\n 569848458  194757069              1\n 573905445  194757069              2\n 601687820  194757069              6\n 615784462  194757069              1\n 634605300  194757069              1\n 645805274  194757069              1\n 664406322  194757069              1\n 669701756  194757069              3\n 672486931  194757069              1\n 681548524  194757069              1\n 681827987  194757069              1\n 692591764  194757069              3\n 700022866  194757069              1\n 706671120  194757069              1\n 712257108  194757069              2\n 741258971  194757069              1\n 741701697  194757069              2\n 742811600  194757069              2\n 749590524  194757069              1\n 753669441  194757069              2\n 756688334  194757069              1",
      "text/html": "<div>\n<style scoped>\n    .dataframe tbody tr th:only-of-type {\n        vertical-align: middle;\n    }\n\n    .dataframe tbody tr th {\n        vertical-align: top;\n    }\n\n    .dataframe thead th {\n        text-align: right;\n    }\n</style>\n<table border=\"1\" class=\"dataframe\">\n  <thead>\n    <tr style=\"text-align: right;\">\n      <th></th>\n      <th>group_id</th>\n      <th>count_coments</th>\n    </tr>\n    <tr>\n      <th>user_id</th>\n      <th></th>\n      <th></th>\n    </tr>\n  </thead>\n  <tbody>\n    <tr>\n      <th>-135229927</th>\n      <td>135229927</td>\n      <td>5</td>\n    </tr>\n    <tr>\n      <th>-101744603</th>\n      <td>135229927</td>\n      <td>1</td>\n    </tr>\n    <tr>\n      <th>49338486</th>\n      <td>135229927</td>\n      <td>1</td>\n    </tr>\n    <tr>\n      <th>55936014</th>\n      <td>135229927</td>\n      <td>1</td>\n    </tr>\n    <tr>\n      <th>99463740</th>\n      <td>135229927</td>\n      <td>1</td>\n    </tr>\n    <tr>\n      <th>128878022</th>\n      <td>135229927</td>\n      <td>1</td>\n    </tr>\n    <tr>\n      <th>142076328</th>\n      <td>135229927</td>\n      <td>1</td>\n    </tr>\n    <tr>\n      <th>144062872</th>\n      <td>135229927</td>\n      <td>1</td>\n    </tr>\n    <tr>\n      <th>173442304</th>\n      <td>135229927</td>\n      <td>1</td>\n    </tr>\n    <tr>\n      <th>343109197</th>\n      <td>135229927</td>\n      <td>1</td>\n    </tr>\n    <tr>\n      <th>366368721</th>\n      <td>135229927</td>\n      <td>3</td>\n    </tr>\n    <tr>\n      <th>422053987</th>\n      <td>135229927</td>\n      <td>1</td>\n    </tr>\n    <tr>\n      <th>482133237</th>\n      <td>135229927</td>\n      <td>2</td>\n    </tr>\n    <tr>\n      <th>530513175</th>\n      <td>135229927</td>\n      <td>1</td>\n    </tr>\n    <tr>\n      <th>575919998</th>\n      <td>135229927</td>\n      <td>1</td>\n    </tr>\n    <tr>\n      <th>722951641</th>\n      <td>135229927</td>\n      <td>1</td>\n    </tr>\n    <tr>\n      <th>97994283</th>\n      <td>194757069</td>\n      <td>1</td>\n    </tr>\n    <tr>\n      <th>152135321</th>\n      <td>194757069</td>\n      <td>1</td>\n    </tr>\n    <tr>\n      <th>161180401</th>\n      <td>194757069</td>\n      <td>1</td>\n    </tr>\n    <tr>\n      <th>223544135</th>\n      <td>194757069</td>\n      <td>1</td>\n    </tr>\n    <tr>\n      <th>278742231</th>\n      <td>194757069</td>\n      <td>2</td>\n    </tr>\n    <tr>\n      <th>336661000</th>\n      <td>194757069</td>\n      <td>1</td>\n    </tr>\n    <tr>\n      <th>377647853</th>\n      <td>194757069</td>\n      <td>1</td>\n    </tr>\n    <tr>\n      <th>400066476</th>\n      <td>194757069</td>\n      <td>1</td>\n    </tr>\n    <tr>\n      <th>408971740</th>\n      <td>194757069</td>\n      <td>1</td>\n    </tr>\n    <tr>\n      <th>411939151</th>\n      <td>194757069</td>\n      <td>1</td>\n    </tr>\n    <tr>\n      <th>414867718</th>\n      <td>194757069</td>\n      <td>1</td>\n    </tr>\n    <tr>\n      <th>463910935</th>\n      <td>194757069</td>\n      <td>1</td>\n    </tr>\n    <tr>\n      <th>511300777</th>\n      <td>194757069</td>\n      <td>1</td>\n    </tr>\n    <tr>\n      <th>516058613</th>\n      <td>194757069</td>\n      <td>1</td>\n    </tr>\n    <tr>\n      <th>524430629</th>\n      <td>194757069</td>\n      <td>1</td>\n    </tr>\n    <tr>\n      <th>559367123</th>\n      <td>194757069</td>\n      <td>3</td>\n    </tr>\n    <tr>\n      <th>569848458</th>\n      <td>194757069</td>\n      <td>1</td>\n    </tr>\n    <tr>\n      <th>573905445</th>\n      <td>194757069</td>\n      <td>2</td>\n    </tr>\n    <tr>\n      <th>601687820</th>\n      <td>194757069</td>\n      <td>6</td>\n    </tr>\n    <tr>\n      <th>615784462</th>\n      <td>194757069</td>\n      <td>1</td>\n    </tr>\n    <tr>\n      <th>634605300</th>\n      <td>194757069</td>\n      <td>1</td>\n    </tr>\n    <tr>\n      <th>645805274</th>\n      <td>194757069</td>\n      <td>1</td>\n    </tr>\n    <tr>\n      <th>664406322</th>\n      <td>194757069</td>\n      <td>1</td>\n    </tr>\n    <tr>\n      <th>669701756</th>\n      <td>194757069</td>\n      <td>3</td>\n    </tr>\n    <tr>\n      <th>672486931</th>\n      <td>194757069</td>\n      <td>1</td>\n    </tr>\n    <tr>\n      <th>681548524</th>\n      <td>194757069</td>\n      <td>1</td>\n    </tr>\n    <tr>\n      <th>681827987</th>\n      <td>194757069</td>\n      <td>1</td>\n    </tr>\n    <tr>\n      <th>692591764</th>\n      <td>194757069</td>\n      <td>3</td>\n    </tr>\n    <tr>\n      <th>700022866</th>\n      <td>194757069</td>\n      <td>1</td>\n    </tr>\n    <tr>\n      <th>706671120</th>\n      <td>194757069</td>\n      <td>1</td>\n    </tr>\n    <tr>\n      <th>712257108</th>\n      <td>194757069</td>\n      <td>2</td>\n    </tr>\n    <tr>\n      <th>741258971</th>\n      <td>194757069</td>\n      <td>1</td>\n    </tr>\n    <tr>\n      <th>741701697</th>\n      <td>194757069</td>\n      <td>2</td>\n    </tr>\n    <tr>\n      <th>742811600</th>\n      <td>194757069</td>\n      <td>2</td>\n    </tr>\n    <tr>\n      <th>749590524</th>\n      <td>194757069</td>\n      <td>1</td>\n    </tr>\n    <tr>\n      <th>753669441</th>\n      <td>194757069</td>\n      <td>2</td>\n    </tr>\n    <tr>\n      <th>756688334</th>\n      <td>194757069</td>\n      <td>1</td>\n    </tr>\n  </tbody>\n</table>\n</div>"
     },
     "execution_count": 55,
     "metadata": {},
     "output_type": "execute_result"
    }
   ],
   "source": [
    "import  pandas as pd\n",
    "r = pd.DataFrame(res)\n",
    "# r.pivot_table(index=['group_id', 'user_id'], values='user_id',  aggfunc='count')\n",
    "r = r.groupby(['group_id', 'user_id'])[['user_id']].count().reset_index(level=0)\n",
    "r.rename(columns={'user_id':'count_coments'}, level=0,  inplace=True)\n",
    "r"
   ],
   "metadata": {
    "collapsed": false
   }
  },
  {
   "cell_type": "code",
   "execution_count": 83,
   "outputs": [
    {
     "data": {
      "text/plain": "         user_id first_name   last_name          city country mobile_phone  \\\n0        1372991   Анатолий    Толкачев      Оренбург  Россия                \n1        2287437      Денис     Смирнов  Петрозаводск  Россия                \n2        3579328  Екатерина     Каплина      Оренбург  Россия                \n3        3837487    Алексей    Пушкарёв      Оренбург  Россия  89228718882   \n4        3888346      Артем     Шабалин    Новотроицк  Россия  89226277350   \n...          ...        ...         ...           ...     ...          ...   \n19955  732826116        Zoe      Morris                                      \n19956  732826133     Olivia        Hull                                      \n19957  732826135    Natalie  Richardson                                      \n19958  732826137     Aubrey      Hanson                                      \n19959  732826142     Evelyn      Jarvis                                      \n\n      home_phone                                       career  \\\n0                                                          []   \n1                                                               \n2                                                               \n3                    company: No company, position: ФОТОГРАФ    \n4                 company: No company, position: Программист    \n...          ...                                          ...   \n19955                                                           \n19956                                                           \n19957                                                           \n19958                                                           \n19959                                                           \n\n         university_name   group_id             group_name  \n0                         135229927  АТЦ \"Жигули-Оренбург\"  \n1                         135229927  АТЦ \"Жигули-Оренбург\"  \n2                         135229927  АТЦ \"Жигули-Оренбург\"  \n3                         135229927  АТЦ \"Жигули-Оренбург\"  \n4      ОГТИ (филиал ОГУ)  135229927  АТЦ \"Жигули-Оренбург\"  \n...                  ...        ...                    ...  \n19955                     194757069        Работа Оренбург  \n19956                     194757069        Работа Оренбург  \n19957                     194757069        Работа Оренбург  \n19958                     194757069        Работа Оренбург  \n19959                     194757069        Работа Оренбург  \n\n[19960 rows x 11 columns]",
      "text/html": "<div>\n<style scoped>\n    .dataframe tbody tr th:only-of-type {\n        vertical-align: middle;\n    }\n\n    .dataframe tbody tr th {\n        vertical-align: top;\n    }\n\n    .dataframe thead th {\n        text-align: right;\n    }\n</style>\n<table border=\"1\" class=\"dataframe\">\n  <thead>\n    <tr style=\"text-align: right;\">\n      <th></th>\n      <th>user_id</th>\n      <th>first_name</th>\n      <th>last_name</th>\n      <th>city</th>\n      <th>country</th>\n      <th>mobile_phone</th>\n      <th>home_phone</th>\n      <th>career</th>\n      <th>university_name</th>\n      <th>group_id</th>\n      <th>group_name</th>\n    </tr>\n  </thead>\n  <tbody>\n    <tr>\n      <th>0</th>\n      <td>1372991</td>\n      <td>Анатолий</td>\n      <td>Толкачев</td>\n      <td>Оренбург</td>\n      <td>Россия</td>\n      <td></td>\n      <td></td>\n      <td>[]</td>\n      <td></td>\n      <td>135229927</td>\n      <td>АТЦ \"Жигули-Оренбург\"</td>\n    </tr>\n    <tr>\n      <th>1</th>\n      <td>2287437</td>\n      <td>Денис</td>\n      <td>Смирнов</td>\n      <td>Петрозаводск</td>\n      <td>Россия</td>\n      <td></td>\n      <td></td>\n      <td></td>\n      <td></td>\n      <td>135229927</td>\n      <td>АТЦ \"Жигули-Оренбург\"</td>\n    </tr>\n    <tr>\n      <th>2</th>\n      <td>3579328</td>\n      <td>Екатерина</td>\n      <td>Каплина</td>\n      <td>Оренбург</td>\n      <td>Россия</td>\n      <td></td>\n      <td></td>\n      <td></td>\n      <td></td>\n      <td>135229927</td>\n      <td>АТЦ \"Жигули-Оренбург\"</td>\n    </tr>\n    <tr>\n      <th>3</th>\n      <td>3837487</td>\n      <td>Алексей</td>\n      <td>Пушкарёв</td>\n      <td>Оренбург</td>\n      <td>Россия</td>\n      <td>89228718882</td>\n      <td></td>\n      <td>company: No company, position: ФОТОГРАФ</td>\n      <td></td>\n      <td>135229927</td>\n      <td>АТЦ \"Жигули-Оренбург\"</td>\n    </tr>\n    <tr>\n      <th>4</th>\n      <td>3888346</td>\n      <td>Артем</td>\n      <td>Шабалин</td>\n      <td>Новотроицк</td>\n      <td>Россия</td>\n      <td>89226277350</td>\n      <td></td>\n      <td>company: No company, position: Программист</td>\n      <td>ОГТИ (филиал ОГУ)</td>\n      <td>135229927</td>\n      <td>АТЦ \"Жигули-Оренбург\"</td>\n    </tr>\n    <tr>\n      <th>...</th>\n      <td>...</td>\n      <td>...</td>\n      <td>...</td>\n      <td>...</td>\n      <td>...</td>\n      <td>...</td>\n      <td>...</td>\n      <td>...</td>\n      <td>...</td>\n      <td>...</td>\n      <td>...</td>\n    </tr>\n    <tr>\n      <th>19955</th>\n      <td>732826116</td>\n      <td>Zoe</td>\n      <td>Morris</td>\n      <td></td>\n      <td></td>\n      <td></td>\n      <td></td>\n      <td></td>\n      <td></td>\n      <td>194757069</td>\n      <td>Работа Оренбург</td>\n    </tr>\n    <tr>\n      <th>19956</th>\n      <td>732826133</td>\n      <td>Olivia</td>\n      <td>Hull</td>\n      <td></td>\n      <td></td>\n      <td></td>\n      <td></td>\n      <td></td>\n      <td></td>\n      <td>194757069</td>\n      <td>Работа Оренбург</td>\n    </tr>\n    <tr>\n      <th>19957</th>\n      <td>732826135</td>\n      <td>Natalie</td>\n      <td>Richardson</td>\n      <td></td>\n      <td></td>\n      <td></td>\n      <td></td>\n      <td></td>\n      <td></td>\n      <td>194757069</td>\n      <td>Работа Оренбург</td>\n    </tr>\n    <tr>\n      <th>19958</th>\n      <td>732826137</td>\n      <td>Aubrey</td>\n      <td>Hanson</td>\n      <td></td>\n      <td></td>\n      <td></td>\n      <td></td>\n      <td></td>\n      <td></td>\n      <td>194757069</td>\n      <td>Работа Оренбург</td>\n    </tr>\n    <tr>\n      <th>19959</th>\n      <td>732826142</td>\n      <td>Evelyn</td>\n      <td>Jarvis</td>\n      <td></td>\n      <td></td>\n      <td></td>\n      <td></td>\n      <td></td>\n      <td></td>\n      <td>194757069</td>\n      <td>Работа Оренбург</td>\n    </tr>\n  </tbody>\n</table>\n<p>19960 rows × 11 columns</p>\n</div>"
     },
     "execution_count": 83,
     "metadata": {},
     "output_type": "execute_result"
    }
   ],
   "source": [
    "with open(\"users_list.pickle\", 'rb') as file:\n",
    "    users_list = pickle.load(file)\n",
    "\n",
    "users_list_df = pd.DataFrame(users_list)\n",
    "users_list_df"
   ],
   "metadata": {
    "collapsed": false
   }
  },
  {
   "cell_type": "code",
   "execution_count": 84,
   "outputs": [],
   "source": [
    "users_list_df = users_list_df.merge(r, right_on=['user_id', 'group_id'], left_on=['user_id', 'group_id'], how='left')\n",
    "\n"
   ],
   "metadata": {
    "collapsed": false
   }
  },
  {
   "cell_type": "code",
   "execution_count": 87,
   "outputs": [
    {
     "data": {
      "text/plain": "         user_id first_name   last_name          city country mobile_phone  \\\n0        1372991   Анатолий    Толкачев      Оренбург  Россия                \n1        2287437      Денис     Смирнов  Петрозаводск  Россия                \n2        3579328  Екатерина     Каплина      Оренбург  Россия                \n3        3837487    Алексей    Пушкарёв      Оренбург  Россия  89228718882   \n4        3888346      Артем     Шабалин    Новотроицк  Россия  89226277350   \n...          ...        ...         ...           ...     ...          ...   \n19955  732826116        Zoe      Morris                                      \n19956  732826133     Olivia        Hull                                      \n19957  732826135    Natalie  Richardson                                      \n19958  732826137     Aubrey      Hanson                                      \n19959  732826142     Evelyn      Jarvis                                      \n\n      home_phone                                       career  \\\n0                                                          []   \n1                                                               \n2                                                               \n3                    company: No company, position: ФОТОГРАФ    \n4                 company: No company, position: Программист    \n...          ...                                          ...   \n19955                                                           \n19956                                                           \n19957                                                           \n19958                                                           \n19959                                                           \n\n         university_name   group_id             group_name  count_coments  \\\n0                         135229927  АТЦ \"Жигули-Оренбург\"            NaN   \n1                         135229927  АТЦ \"Жигули-Оренбург\"            NaN   \n2                         135229927  АТЦ \"Жигули-Оренбург\"            NaN   \n3                         135229927  АТЦ \"Жигули-Оренбург\"            NaN   \n4      ОГТИ (филиал ОГУ)  135229927  АТЦ \"Жигули-Оренбург\"            NaN   \n...                  ...        ...                    ...            ...   \n19955                     194757069        Работа Оренбург            NaN   \n19956                     194757069        Работа Оренбург            NaN   \n19957                     194757069        Работа Оренбург            NaN   \n19958                     194757069        Работа Оренбург            NaN   \n19959                     194757069        Работа Оренбург            NaN   \n\n                      profile_url  \n0        https://vk.com/id1372991  \n1        https://vk.com/id2287437  \n2        https://vk.com/id3579328  \n3        https://vk.com/id3837487  \n4        https://vk.com/id3888346  \n...                           ...  \n19955  https://vk.com/id732826116  \n19956  https://vk.com/id732826133  \n19957  https://vk.com/id732826135  \n19958  https://vk.com/id732826137  \n19959  https://vk.com/id732826142  \n\n[19960 rows x 13 columns]",
      "text/html": "<div>\n<style scoped>\n    .dataframe tbody tr th:only-of-type {\n        vertical-align: middle;\n    }\n\n    .dataframe tbody tr th {\n        vertical-align: top;\n    }\n\n    .dataframe thead th {\n        text-align: right;\n    }\n</style>\n<table border=\"1\" class=\"dataframe\">\n  <thead>\n    <tr style=\"text-align: right;\">\n      <th></th>\n      <th>user_id</th>\n      <th>first_name</th>\n      <th>last_name</th>\n      <th>city</th>\n      <th>country</th>\n      <th>mobile_phone</th>\n      <th>home_phone</th>\n      <th>career</th>\n      <th>university_name</th>\n      <th>group_id</th>\n      <th>group_name</th>\n      <th>count_coments</th>\n      <th>profile_url</th>\n    </tr>\n  </thead>\n  <tbody>\n    <tr>\n      <th>0</th>\n      <td>1372991</td>\n      <td>Анатолий</td>\n      <td>Толкачев</td>\n      <td>Оренбург</td>\n      <td>Россия</td>\n      <td></td>\n      <td></td>\n      <td>[]</td>\n      <td></td>\n      <td>135229927</td>\n      <td>АТЦ \"Жигули-Оренбург\"</td>\n      <td>NaN</td>\n      <td>https://vk.com/id1372991</td>\n    </tr>\n    <tr>\n      <th>1</th>\n      <td>2287437</td>\n      <td>Денис</td>\n      <td>Смирнов</td>\n      <td>Петрозаводск</td>\n      <td>Россия</td>\n      <td></td>\n      <td></td>\n      <td></td>\n      <td></td>\n      <td>135229927</td>\n      <td>АТЦ \"Жигули-Оренбург\"</td>\n      <td>NaN</td>\n      <td>https://vk.com/id2287437</td>\n    </tr>\n    <tr>\n      <th>2</th>\n      <td>3579328</td>\n      <td>Екатерина</td>\n      <td>Каплина</td>\n      <td>Оренбург</td>\n      <td>Россия</td>\n      <td></td>\n      <td></td>\n      <td></td>\n      <td></td>\n      <td>135229927</td>\n      <td>АТЦ \"Жигули-Оренбург\"</td>\n      <td>NaN</td>\n      <td>https://vk.com/id3579328</td>\n    </tr>\n    <tr>\n      <th>3</th>\n      <td>3837487</td>\n      <td>Алексей</td>\n      <td>Пушкарёв</td>\n      <td>Оренбург</td>\n      <td>Россия</td>\n      <td>89228718882</td>\n      <td></td>\n      <td>company: No company, position: ФОТОГРАФ</td>\n      <td></td>\n      <td>135229927</td>\n      <td>АТЦ \"Жигули-Оренбург\"</td>\n      <td>NaN</td>\n      <td>https://vk.com/id3837487</td>\n    </tr>\n    <tr>\n      <th>4</th>\n      <td>3888346</td>\n      <td>Артем</td>\n      <td>Шабалин</td>\n      <td>Новотроицк</td>\n      <td>Россия</td>\n      <td>89226277350</td>\n      <td></td>\n      <td>company: No company, position: Программист</td>\n      <td>ОГТИ (филиал ОГУ)</td>\n      <td>135229927</td>\n      <td>АТЦ \"Жигули-Оренбург\"</td>\n      <td>NaN</td>\n      <td>https://vk.com/id3888346</td>\n    </tr>\n    <tr>\n      <th>...</th>\n      <td>...</td>\n      <td>...</td>\n      <td>...</td>\n      <td>...</td>\n      <td>...</td>\n      <td>...</td>\n      <td>...</td>\n      <td>...</td>\n      <td>...</td>\n      <td>...</td>\n      <td>...</td>\n      <td>...</td>\n      <td>...</td>\n    </tr>\n    <tr>\n      <th>19955</th>\n      <td>732826116</td>\n      <td>Zoe</td>\n      <td>Morris</td>\n      <td></td>\n      <td></td>\n      <td></td>\n      <td></td>\n      <td></td>\n      <td></td>\n      <td>194757069</td>\n      <td>Работа Оренбург</td>\n      <td>NaN</td>\n      <td>https://vk.com/id732826116</td>\n    </tr>\n    <tr>\n      <th>19956</th>\n      <td>732826133</td>\n      <td>Olivia</td>\n      <td>Hull</td>\n      <td></td>\n      <td></td>\n      <td></td>\n      <td></td>\n      <td></td>\n      <td></td>\n      <td>194757069</td>\n      <td>Работа Оренбург</td>\n      <td>NaN</td>\n      <td>https://vk.com/id732826133</td>\n    </tr>\n    <tr>\n      <th>19957</th>\n      <td>732826135</td>\n      <td>Natalie</td>\n      <td>Richardson</td>\n      <td></td>\n      <td></td>\n      <td></td>\n      <td></td>\n      <td></td>\n      <td></td>\n      <td>194757069</td>\n      <td>Работа Оренбург</td>\n      <td>NaN</td>\n      <td>https://vk.com/id732826135</td>\n    </tr>\n    <tr>\n      <th>19958</th>\n      <td>732826137</td>\n      <td>Aubrey</td>\n      <td>Hanson</td>\n      <td></td>\n      <td></td>\n      <td></td>\n      <td></td>\n      <td></td>\n      <td></td>\n      <td>194757069</td>\n      <td>Работа Оренбург</td>\n      <td>NaN</td>\n      <td>https://vk.com/id732826137</td>\n    </tr>\n    <tr>\n      <th>19959</th>\n      <td>732826142</td>\n      <td>Evelyn</td>\n      <td>Jarvis</td>\n      <td></td>\n      <td></td>\n      <td></td>\n      <td></td>\n      <td></td>\n      <td></td>\n      <td>194757069</td>\n      <td>Работа Оренбург</td>\n      <td>NaN</td>\n      <td>https://vk.com/id732826142</td>\n    </tr>\n  </tbody>\n</table>\n<p>19960 rows × 13 columns</p>\n</div>"
     },
     "execution_count": 87,
     "metadata": {},
     "output_type": "execute_result"
    }
   ],
   "source": [
    "users_list_df['profile_url'] = users_list_df['user_id'].apply(lambda x: f'https://vk.com/id{x}') #f'https://vk.com/id{users_list_df[[\"user_id\"]]}'\n",
    "users_list_df"
   ],
   "metadata": {
    "collapsed": false
   }
  },
  {
   "cell_type": "markdown",
   "source": [],
   "metadata": {
    "collapsed": false
   }
  },
  {
   "cell_type": "code",
   "execution_count": null,
   "outputs": [],
   "source": [],
   "metadata": {
    "collapsed": false
   }
  }
 ],
 "metadata": {
  "kernelspec": {
   "display_name": "Python 3",
   "language": "python",
   "name": "python3"
  },
  "language_info": {
   "codemirror_mode": {
    "name": "ipython",
    "version": 2
   },
   "file_extension": ".py",
   "mimetype": "text/x-python",
   "name": "python",
   "nbconvert_exporter": "python",
   "pygments_lexer": "ipython2",
   "version": "2.7.6"
  }
 },
 "nbformat": 4,
 "nbformat_minor": 0
}
